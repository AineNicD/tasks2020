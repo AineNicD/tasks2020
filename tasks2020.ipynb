{
 "cells": [
  {
   "cell_type": "markdown",
   "metadata": {},
   "source": [
    "# Tasks 2020\n",
    "~ My GMIT Fundamentals of Data Analysis tasks 2020\n",
    "~ Student: Aine Nic Dhonnacha\n",
    "~ Email: G00259400@gmit.ie\n",
    "\n",
    "\n",
    "## Task 1 : October 5th, 2020:\n",
    "\n",
    "~~~ \n",
    "\"Write a Python function called counts that takes a list as\n",
    "input and returns a dictionary of unique items in the list as keys and the number of\n",
    "times each item appears as values. So, the input ['A', 'A', 'B', 'C', 'A']\n",
    "should have output {'A': 3, 'B': 1, 'C': 1} . Your code should not depend\n",
    "on any module from the standard library or otherwise. You should research the task\n",
    "first and include a description with references of your algorithm in the notebook.\"\n",
    "- Tasks 2020 by Ian McLoughlin\n",
    "~~~"
   ]
  },
  {
   "cell_type": "markdown",
   "metadata": {},
   "source": [
    " ### Researching how to implement this task\n",
    " \n",
    " User-Defined Functions (UDFs) are functions that users create. The Keyword def declares the function and is followed up with the function name. [1]\n",
    "\n",
    " "
   ]
  },
  {
   "cell_type": "code",
   "execution_count": null,
   "metadata": {},
   "outputs": [],
   "source": [
    "#def counts() "
   ]
  },
  {
   "cell_type": "markdown",
   "metadata": {},
   "source": [
    "I can iterate over the list and use each distinct element of the list as a key of the dictionary and store the corresponding count of that key as values.\n",
    "[2] \n",
    "Python lists have a built-in sort() method that modifies the list in-place and a sorted() built-in function that builds a new sorted list from an iterable.[3] This method sorted the keys in order.\n",
    "\n"
   ]
  },
  {
   "cell_type": "code",
   "execution_count": 3,
   "metadata": {},
   "outputs": [
    {
     "name": "stdout",
     "output_type": "stream",
     "text": [
      "Enter list aabca\n",
      "\n",
      "\n",
      "[['a', 3], ['b', 1], ['c', 1]]\n"
     ]
    }
   ],
   "source": [
    "def counts(): #defining the function counts\n",
    "    \n",
    "    # asks user for list as input\n",
    "    lst = list(input(\"Enter list \"))\n",
    "    print(\"\\n\")\n",
    "\n",
    "    #returns the number of occurences of each item in list [2]\n",
    "    return([ [l, lst.count(l)] for l in set(lst)]) \n",
    "\n",
    "#prints sorted outcome [3]\n",
    "print (sorted(counts()))"
   ]
  },
  {
   "cell_type": "markdown",
   "metadata": {},
   "source": [
    "### References\n",
    "[1] https://www.datacamp.com/community/tutorials/functions-python-tutorial#udf\n",
    "[2] https://www.geeksforgeeks.org/counting-the-frequencies-in-a-list-using-dictionary-in-python/\n",
    "[3] https://wiki.python.org/moin/HowTo/Sorting\n",
    "[4] https://www.geeksforgeeks.org/python-list-function-count/\n",
    "[5] https://github.com/adam-p/markdown-here/wiki/Markdown-Cheatsheet"
   ]
  }
 ],
 "metadata": {
  "kernelspec": {
   "display_name": "Python 3",
   "language": "python",
   "name": "python3"
  },
  "language_info": {
   "codemirror_mode": {
    "name": "ipython",
    "version": 3
   },
   "file_extension": ".py",
   "mimetype": "text/x-python",
   "name": "python",
   "nbconvert_exporter": "python",
   "pygments_lexer": "ipython3",
   "version": "3.8.3"
  }
 },
 "nbformat": 4,
 "nbformat_minor": 4
}
