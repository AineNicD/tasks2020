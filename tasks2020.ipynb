{
 "cells": [
  {
   "cell_type": "markdown",
   "metadata": {},
   "source": [
    "## Tasks 2020\n",
    "~ My GMIT Fundamentals of Data Analysis tasks 2020\n",
    "~ Student: Aine Nic Dhonnacha\n",
    "~ Email: G00259400@gmit.ie\n",
    "\n",
    "<br>\n",
    "\n",
    "## Task 1 : October 5th, 2020:\n",
    "\n",
    "~~~ \n",
    "\"Write a Python function called counts that takes a list as\n",
    "input and returns a dictionary of unique items in the list as keys and the number of\n",
    "times each item appears as values. So, the input ['A', 'A', 'B', 'C', 'A']\n",
    "should have output {'A': 3, 'B': 1, 'C': 1} . Your code should not depend\n",
    "on any module from the standard library or otherwise. You should research the task\n",
    "first and include a description with references of your algorithm in the notebook.\"\n",
    "- Tasks 2020 by Ian McLoughlin\n",
    "~~~"
   ]
  },
  {
   "cell_type": "markdown",
   "metadata": {},
   "source": [
    "### Research \n",
    "\n",
    "<div style=\"text-align: justify\"> To write my counts python function, I have called upon built in functions from the python library for assistance. \n",
    "These include, count(), set(), sort(), dict(), list. </div>\n",
    "\n",
    "[Python library Data Structuers](https://docs.python.org/3/tutorial/datastructures.html)\n",
    "  \n",
    "<div style=\"text-align: justify\">  is a great source to get an understanding of what these functions can do and how to implement them in my code. </div>"
   ]
  },
  {
   "cell_type": "markdown",
   "metadata": {},
   "source": [
    "User-Defined Functions (UDFs) are functions that users create. The Keyword def defines the function and is followed up with the function name. [2](https://www.datacamp.com/community/tutorials/functions-python-tutorial#udf)\n"
   ]
  },
  {
   "cell_type": "code",
   "execution_count": 1,
   "metadata": {},
   "outputs": [],
   "source": [
    "#def counts() "
   ]
  },
  {
   "cell_type": "markdown",
   "metadata": {},
   "source": [
    "First I define the counts function and list and ask the user to input the list \n",
    " \n",
    "~~~ \n",
    "def counts()\n",
    "    lst = list(input(\"Enter list: \"))\n",
    "~~~\n",
    "\n",
    "<div style=\"text-align: justify\"> Pythons built in count function can be used to count the frequencies of each item in a list </div>\n",
    "\n",
    "[3](https://www.geeksforgeeks.org/counting-the-frequencies-in-a-list-using-dictionary-in-python/)\n",
    "We can use a list \"l\" comprehension and the count() method.\n",
    "\n",
    "~~~\n",
    "\"[[x,l.count(x)] for x in set(l)]\" \n",
    "~~~\n",
    "\n",
    "[4](https://stackoverflow.com/questions/2600191/how-can-i-count-the-occurrences-of-a-list-item/23909767)\n",
    "\n",
    "Pythons set() function can be used to create sets. A set is a collection in no order with no duplicated elements. [5](https://docs.python.org/3/tutorial/datastructures.html)\n",
    "\n",
    "~~~\n",
    "[l, lst.count(l)] for l in set(lst)]\n",
    "~~~\n",
    "\n",
    "<div style=\"text-align: justify\"> Python lists have a built-in sort() method that modifies the list in-place and a sorted() built-in function that builds a new sorted list. </div>\n",
    "\n",
    "[5](https://wiki.python.org/moin/HowTo/Sorting)\n",
    "\n",
    "<div style=\"text-align: justify\"> This method sorted the keys in order. Python dict() function is a constructor which creates a dictionary. \n",
    "Python dict() and sort() can be used in conjunction which I have done below to achieve the desired outcome.</div>\n",
    "   \n",
    "[6](https://docs.python.org/3/tutorial/datastructures.html)\n",
    "\n",
    "~~~\n",
    "dict(sorted(counts()))\n",
    "~~~\n",
    "\n",
    "<div style=\"text-align: justify\"> Dictionaries can be any immutable type; strings and numbers can always be keys. \n",
    "You can’t use lists as keys, since lists can be modified in place.\n",
    "Which is a great reason for creating a function that takes in a list and returns a dictionary of items as keys. </div>\n",
    "\n",
    "[6](https://docs.python.org/3/tutorial/datastructures.html)\n"
   ]
  },
  {
   "cell_type": "code",
   "execution_count": 2,
   "metadata": {},
   "outputs": [],
   "source": [
    "def counts(): #defining the function counts\n",
    "    \n",
    "    # asks user for list as input\n",
    "    lst = list(input(\"Enter list: \"))\n",
    "    print(\"\\n\")\n",
    "\n",
    "    #counts the number of occurences of each item in list [3]\n",
    "    mylist=([ [l, lst.count(l)] for l in set(lst)]) \n",
    "    #prints dictionary, sorted outcome. \n",
    "    print(dict(sorted(mylist)))\n",
    "    \n"
   ]
  },
  {
   "cell_type": "code",
   "execution_count": 3,
   "metadata": {},
   "outputs": [
    {
     "name": "stdout",
     "output_type": "stream",
     "text": [
      "Enter list: AABCA\n",
      "\n",
      "\n",
      "{'A': 3, 'B': 1, 'C': 1}\n"
     ]
    }
   ],
   "source": [
    "#Using the function counts: \n",
    "counts()\n"
   ]
  },
  {
   "cell_type": "markdown",
   "metadata": {},
   "source": []
  },
  {
   "cell_type": "markdown",
   "metadata": {},
   "source": [
    "### References\n",
    "- [1] Ian McLoughlin course material \n",
    "- [2] https://www.datacamp.com/community/tutorials/functions-python-tutorial#udf\n",
    "- [3] https://www.geeksforgeeks.org/counting-the-frequencies-in-a-list-using-dictionary-in-python/\n",
    "- [4] https://stackoverflow.com/questions/2600191/how-can-i-count-the-occurrences-of-a-list-item/23909767\n",
    "- [5] https://wiki.python.org/moin/HowTo/Sorting\n",
    "- [6] https://docs.python.org/3/tutorial/datastructures.html\n",
    "- [7] https://www.geeksforgeeks.org/python-list-function-count/\n",
    "- [8] https://github.com/adam-p/markdown-here/wiki/Markdown-Cheatsheet"
   ]
  },
  {
   "cell_type": "markdown",
   "metadata": {},
   "source": [
    "<br>\n",
    "\n",
    "## Task 2. November 2nd, 2020:\n",
    "\n",
    "~~~\n",
    "\"Write a Python function called dicerolls that simulates\n",
    "rolling dice. Your function should take two parameters: the number of dice k and\n",
    "the number of times to roll the dice n. The function should simulate randomly\n",
    "rolling k dice n times, keeping track of each total face value. It should then return\n",
    "a dictionary with the number of times each possible total face value occurred. So,\n",
    "calling the function as diceroll(k=2, n=1000) should return a dictionary like:\n",
    "{2:19,3:50,4:82,5:112,6:135,7:174,8:133,9:114,10:75,11:70,12:36}\"\n",
    "- Tasks 2020 by Ian McLoughlin\n",
    "~~~"
   ]
  },
  {
   "cell_type": "markdown",
   "metadata": {},
   "source": [
    "### Research\n",
    "\n",
    "<div style=\"text-align: justify\">  Pythons random module is perfect for this task. I can simulate a roll of a dice in python by creating a code that will randomly choose an integer between 1 and 6.\n",
    "The <b>random.randint()</b> function returns a random integer based on the start and end that I specify. </div>\n",
    "\n",
    "[python docs random](https://docs.python.org/3/library/random.html)\n",
    "\n",
    "<div style=\"text-align: justify\"> \n",
    " A Python function called <b>dicerolls</b> that simulates rolling dice.\n",
    "The function takes two parameters: the number of dice k and\n",
    "the number of times to roll the dice n. \n",
    "The function simulates randomly rolling k dice n times, keeping track of each total face value. It then returns\n",
    "a dictionary with the number of times each possible total face value occurred. (Ian McLoughlin course material) </div>"
   ]
  },
  {
   "cell_type": "code",
   "execution_count": 4,
   "metadata": {},
   "outputs": [],
   "source": [
    "import random\n",
    "\n",
    "#A function that returns a dictionary with the number of times each face value is returned. \n",
    "\n",
    "def diceroll(k, n):\n",
    "    #start a counter to count (n) how many times the dice are rolled\n",
    "    myCounter = 0\n",
    "    #my list to store the values\n",
    "    dictList = []\n",
    "    #while loop to loop (n) times\n",
    "    while myCounter < n:\n",
    "        for i in range(k):\n",
    "            #given that the lowest possible face value for quantity k dice is k, and the highest possible\n",
    "            #total dice value will be k multiplied by 6. \n",
    "            #These are the values in the random.randint parameters.\n",
    "            totalFaceValue = random.randint(k, ( k * 6 ))\n",
    "            #increment my counter by 1\n",
    "            myCounter += 1\n",
    "            #add the total face value total to my list\n",
    "            dictList.append(totalFaceValue)\n",
    "    #count each item value\n",
    "    randList=([ [l, dictList.count(l)] for l in set(dictList)])\n",
    "    #display dictionary\n",
    "    print(dict(randList))\n"
   ]
  },
  {
   "cell_type": "code",
   "execution_count": 5,
   "metadata": {},
   "outputs": [
    {
     "name": "stdout",
     "output_type": "stream",
     "text": [
      "{2: 98, 3: 83, 4: 92, 5: 91, 6: 101, 7: 89, 8: 96, 9: 87, 10: 86, 11: 91, 12: 86}\n"
     ]
    }
   ],
   "source": [
    "diceroll(k = 2,n = 1000)"
   ]
  },
  {
   "cell_type": "code",
   "execution_count": 6,
   "metadata": {},
   "outputs": [
    {
     "data": {
      "text/plain": [
       "1000"
      ]
     },
     "execution_count": 6,
     "metadata": {},
     "output_type": "execute_result"
    }
   ],
   "source": [
    "# checking counter & while loop in code is working by adding the outputs together to add up to 1000.\n",
    "\n",
    "31 + 62 + 88 + 111 + 148 + 163 + 124 + 111 + 79 + 56 + 27\n",
    "#These were the numbers when I was testing the function.\n",
    "\n",
    "#These numbers change everytime the code is run(as they should to be random.)\n"
   ]
  },
  {
   "cell_type": "code",
   "execution_count": 7,
   "metadata": {},
   "outputs": [
    {
     "name": "stdout",
     "output_type": "stream",
     "text": [
      "{3: 69, 4: 55, 5: 68, 6: 60, 7: 56, 8: 73, 9: 66, 10: 50, 11: 72, 12: 68, 13: 52, 14: 60, 15: 63, 16: 60, 17: 65, 18: 65}\n"
     ]
    }
   ],
   "source": [
    "#checking with 3 dice we should have total face values beginning from 3 to 18 \n",
    "diceroll(3,1000)"
   ]
  },
  {
   "cell_type": "markdown",
   "metadata": {},
   "source": [
    "<div style=\"text-align: justify\"> \n",
    "Previously, my code was producing the correct output for 2 dicerolls, 1000 times,  but only n was working from the parameter. \n",
    "After multiple attempts of applying different while and for loops, and failing miserably, changing the code completly and then returning to my original code, trying to figure out how to get k to also work from the parameter, a sudden brain wave hit me, I attempted multiplying 6 by the number of dice(k) within the randint() parameters and to my delight it worked on my original code. That is the wonderful thing about Python, you can try line upon line of code and a small simple change can solve everything. \n",
    "The code now keeps track of the total face value of simulating rolling k dice n times. </div>"
   ]
  },
  {
   "cell_type": "markdown",
   "metadata": {},
   "source": [
    "## References\n",
    "- Ian McLoughlin​ course material\n",
    "- [Python random library](https://docs.python.org/3/library/random.html) helped me decipher which random module was best suited for simulating the diceroll. \n",
    "I played around with while and for loops a lot. These resources were very helpful in figuring out the best way to implement them in this code; \n",
    "- [Real Python while loops](https://realpython.com/python-while-loop/)\n",
    "\n",
    "- [learn Python](https://www.learnpython.org/en/Loops).\n",
    "\n",
    "The dictionary return code used came my previous task which was inspired by this; \n",
    "- [geeksforgeeks](https://www.geeksforgeeks.org/counting-the-frequencies-in-a-list-using-dictionary-in-python/) page. \n"
   ]
  },
  {
   "cell_type": "markdown",
   "metadata": {},
   "source": []
  },
  {
   "cell_type": "markdown",
   "metadata": {},
   "source": []
  },
  {
   "cell_type": "markdown",
   "metadata": {},
   "source": [
    " ## 3. November 16th, 2020: \n",
    "\n",
    "~~~\n",
    "\"The numpy.random.binomial function can be used to\n",
    "simulate flipping a coin with a 50/50 chance of heads or tails. Interestingly, if a\n",
    "coin is flipped many times then the number of heads is well approximated by a\n",
    "bell-shaped curve. For instance, if we flip a coin 100 times in a row the chance of\n",
    "getting 50 heads is relatively high, the chances of getting 0 or 100 heads is relatively\n",
    "low, and the chances of getting any other number of heads decreases as you move\n",
    "away from 50 in either direction towards 0 or 100. Write some python code that\n",
    "simulates flipping a coin 100 times. Then run this code 1,000 times, keeping track\n",
    "of the number of heads in each of the 1,000 simulations. Select an appropriate\n",
    "plot to depict the resulting list of 1,000 numbers, showing that it roughly follows\n",
    "a bell-shaped curve. You should explain your work in a Markdown cell above the\n",
    "code.\" - Tasks 2020 by Ian McLoughlin\n",
    "~~~\n",
    "\n",
    "\n",
    "## Research\n",
    "<div style=\"text-align: justify\">\n",
    "    \n",
    "    \n",
    "    \n",
    "    \n",
    "    \n",
    "    \n",
    "    \n",
    "</div>\n"
   ]
  },
  {
   "cell_type": "markdown",
   "metadata": {},
   "source": [
    "<b>numpy.random.binomial(n, p, size=None)</b> \n",
    "- n = the number of trials\n",
    "- p = probability of success\n",
    "- size = the number of successes\n",
    "[Numpy documentation](https://het.as.utexas.edu/HET/Software/Numpy/reference/generated/numpy.random.binomial.html)"
   ]
  },
  {
   "cell_type": "markdown",
   "metadata": {},
   "source": [
    "This code from the [Numpy documentation](https://het.as.utexas.edu/HET/Software/Numpy/reference/generated/numpy.random.binomial.html) showed me 0.5 is a way to represent flipping a coin. \n",
    "\n",
    "~~~\n",
    "\">>> n, p = 10, .5 # number of trials, probability of each trial\n",
    ">>> s = np.random.binomial(n, p, 1000)\n",
    "- #result of flipping a coin 10 times, tested 1000 times.\"\n",
    "~~~\n",
    "[Numpy documentation](https://het.as.utexas.edu/HET/Software/Numpy/reference/generated/numpy.random.binomial.html)"
   ]
  },
  {
   "cell_type": "markdown",
   "metadata": {},
   "source": [
    "I researched numpy.random.binomial, read the documentation, and I am not yet sure if this code is correct, but it is a good starting point for this task. A coin has two possible outcomes, which is why the Binomial distribution is appropriate for simulating coin flips, discrete distributions have a countable number of outcomes. [investopedia](https://www.investopedia.com/terms/d/discrete-distribution.asp#:~:text=A%20discrete%20distribution%20is%20a,%2C%202%2C%203...&text=Overall%2C%20the%20concepts%20of%20discrete,probability%20theory%20and%20statistical%20analysis)\n",
    "\n",
    "\n",
    "\n",
    "Using distplot until I find a more appropriate plot that shows the bell shaped curve. "
   ]
  },
  {
   "cell_type": "code",
   "execution_count": 8,
   "metadata": {},
   "outputs": [
    {
     "name": "stdout",
     "output_type": "stream",
     "text": [
      "[49 45 58 53 48 48 43 45 49 49 48 49 49 47 52 42 51 55 46 47 44 50 51 47\n",
      " 42 52 52 60 50 50 51 49 44 53 51 42 47 44 45 55 49 51 40 46 45 59 45 57\n",
      " 58 49 57 42 59 49 57 55 58 52 54 54 46 44 49 48 43 54 53 51 46 56 41 53\n",
      " 51 61 49 53 57 56 45 52 49 48 38 53 52 48 49 48 50 53 44 56 46 55 55 46\n",
      " 61 54 50 51 51 45 52 54 44 51 55 53 41 49 54 46 54 44 57 55 49 45 46 44\n",
      " 55 56 38 54 47 52 56 58 50 54 50 48 40 54 58 41 52 44 52 44 51 48 48 51\n",
      " 53 48 55 54 47 52 46 48 51 50 52 54 54 50 49 54 44 54 48 46 53 52 47 55\n",
      " 46 50 52 47 54 47 57 47 49 52 45 46 52 57 45 45 51 53 54 57 50 50 48 51\n",
      " 45 45 48 46 47 52 44 54 58 50 52 50 42 54 46 52 54 51 48 52 57 60 43 48\n",
      " 48 47 45 51 59 57 59 53 49 55 45 50 46 53 42 43 47 50 50 45 47 50 44 50\n",
      " 42 44 46 49 55 54 58 51 54 46 54 48 61 46 41 51 43 49 48 47 50 49 49 43\n",
      " 53 49 51 53 45 54 57 47 46 50 43 49 46 50 53 49 53 45 51 41 55 57 49 50\n",
      " 46 51 44 59 44 41 44 49 52 53 50 42 51 51 62 48 51 55 43 54 40 56 41 61\n",
      " 53 48 53 47 53 40 51 46 43 44 45 49 59 52 38 50 55 48 52 42 49 56 48 47\n",
      " 55 54 57 50 58 53 55 50 46 42 52 53 54 48 57 56 51 57 49 53 52 49 54 57\n",
      " 56 54 37 51 57 48 52 52 50 60 39 52 52 47 45 55 60 50 47 49 44 40 52 51\n",
      " 55 38 47 49 58 55 48 54 47 42 47 53 39 52 47 51 45 44 52 45 51 49 50 49\n",
      " 44 51 52 40 48 64 52 35 47 42 48 60 50 49 49 43 44 47 58 49 46 52 46 43\n",
      " 44 45 51 40 43 57 38 41 46 55 55 45 52 52 53 50 57 44 52 56 47 43 51 52\n",
      " 48 47 50 54 56 56 48 46 41 60 60 45 56 56 47 48 46 47 56 52 44 42 50 55\n",
      " 49 44 47 44 46 42 58 47 49 50 49 53 45 55 52 50 50 50 57 43 47 50 46 39\n",
      " 41 48 43 51 46 57 42 55 54 41 45 53 62 43 59 56 48 54 52 54 40 50 48 39\n",
      " 47 45 51 49 51 38 45 45 51 50 54 42 48 51 52 44 44 44 50 49 53 56 56 55\n",
      " 49 51 57 50 55 52 50 44 52 51 56 48 55 56 37 49 54 43 52 50 51 54 45 46\n",
      " 60 47 55 41 44 58 53 44 53 56 55 43 53 52 55 42 54 38 53 51 61 49 55 53\n",
      " 51 42 52 49 53 43 57 47 52 53 48 39 52 49 45 51 42 47 51 61 60 49 48 46\n",
      " 51 50 45 41 54 50 57 54 53 48 45 51 47 50 50 50 50 62 50 57 50 44 53 47\n",
      " 55 43 47 46 57 49 52 50 60 56 52 44 51 52 54 52 53 53 56 53 48 55 59 49\n",
      " 46 51 52 58 55 43 41 56 55 54 44 50 47 51 52 51 36 53 43 59 51 50 48 56\n",
      " 46 48 53 51 51 53 53 46 53 50 46 51 46 44 49 49 44 43 45 38 50 51 45 47\n",
      " 48 50 47 45 54 44 58 51 53 51 53 42 54 55 52 48 57 47 51 48 47 49 57 46\n",
      " 45 47 36 44 50 47 39 53 52 46 48 54 53 47 48 51 48 47 51 49 50 45 46 55\n",
      " 61 51 47 53 53 50 56 53 51 51 50 55 50 57 52 54 46 51 56 59 58 43 43 49\n",
      " 56 56 60 44 48 49 55 44 44 50 45 48 42 48 50 51 37 57 52 58 41 51 62 58\n",
      " 56 44 44 45 55 51 52 52 51 46 46 47 50 57 45 63 54 46 53 47 46 54 39 49\n",
      " 64 47 43 45 43 56 53 47 48 46 43 50 43 51 49 51 43 52 55 52 46 55 47 47\n",
      " 51 46 54 48 51 42 51 51 42 51 51 51 48 44 57 52 50 48 50 52 49 50 50 52\n",
      " 58 50 47 52 50 52 49 54 55 47 50 42 44 59 53 52 53 51 49 45 49 44 52 53\n",
      " 45 55 46 58 50 51 44 47 56 55 54 40 59 52 49 50 50 37 48 47 48 46 57 56\n",
      " 50 56 56 51 53 48 57 55 51 48 48 56 48 45 53 49 53 44 43 49 56 47 48 55\n",
      " 47 33 43 41 47 49 55 49 42 56 55 49 59 56 52 55 43 51 43 53 51 40 51 53\n",
      " 53 51 61 56 41 46 49 59 45 54 46 51 42 52 39 51]\n"
     ]
    },
    {
     "data": {
      "text/plain": [
       "<matplotlib.axes._subplots.AxesSubplot at 0x1c5e8e60910>"
      ]
     },
     "execution_count": 8,
     "metadata": {},
     "output_type": "execute_result"
    },
    {
     "data": {
      "image/png": "[encoded data removed]",
      "text/plain": [
       "<Figure size 432x288 with 1 Axes>"
      ]
     },
     "metadata": {
      "needs_background": "light"
     },
     "output_type": "display_data"
    }
   ],
   "source": [
    "#import libraries\n",
    "import numpy as np\n",
    "import seaborn as sns\n",
    "\n",
    "#simulates flipping a coin 100 times \n",
    "x=np.random.binomial(n=100, p=0.5, size = 1000)\n",
    "print(x)\n",
    "\n",
    "#show the bell curve without a histogram using seaborns distplot()\n",
    "sns.distplot(x, hist = False)\n",
    "\n",
    "\n",
    "\n",
    "\n"
   ]
  },
  {
   "cell_type": "markdown",
   "metadata": {},
   "source": []
  },
  {
   "cell_type": "code",
   "execution_count": null,
   "metadata": {},
   "outputs": [],
   "source": []
  },
  {
   "cell_type": "code",
   "execution_count": null,
   "metadata": {},
   "outputs": [],
   "source": []
  }
 ],
 "metadata": {
  "kernelspec": {
   "display_name": "Python 3",
   "language": "python",
   "name": "python3"
  },
  "language_info": {
   "codemirror_mode": {
    "name": "ipython",
    "version": 3
   },
   "file_extension": ".py",
   "mimetype": "text/x-python",
   "name": "python",
   "nbconvert_exporter": "python",
   "pygments_lexer": "ipython3",
   "version": "3.8.3"
  }
 },
 "nbformat": 4,
 "nbformat_minor": 4
}
