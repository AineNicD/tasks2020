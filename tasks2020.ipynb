{
 "cells": [
  {
   "cell_type": "markdown",
   "metadata": {},
   "source": [
    "## Tasks 2020\n",
    "~ My GMIT Fundamentals of Data Analysis tasks 2020\n",
    "~ Student: Aine Nic Dhonnacha\n",
    "~ Email: G00259400@gmit.ie\n",
    "\n",
    "<br>\n",
    "\n",
    "## Task 1 : October 5th, 2020:\n",
    "\n",
    "~~~ \n",
    "\"Write a Python function called counts that takes a list as\n",
    "input and returns a dictionary of unique items in the list as keys and the number of\n",
    "times each item appears as values. So, the input ['A', 'A', 'B', 'C', 'A']\n",
    "should have output {'A': 3, 'B': 1, 'C': 1} . Your code should not depend\n",
    "on any module from the standard library or otherwise. You should research the task\n",
    "first and include a description with references of your algorithm in the notebook.\"\n",
    "- Tasks 2020 by Ian McLoughlin\n",
    "~~~"
   ]
  },
  {
   "cell_type": "markdown",
   "metadata": {},
   "source": [
    "### Research \n",
    "\n",
    "<div style=\"text-align: justify\"> To write my counts python function, I have called upon built in functions from the python library for assistance. \n",
    "These include, count(), set(), sort(), dict(), list. </div>\n",
    "\n",
    "[Python library Data Structuers](https://docs.python.org/3/tutorial/datastructures.html)\n",
    "  \n",
    "<div style=\"text-align: justify\">  is a great source to get an understanding of what these functions can do and how to implement them in my code. </div>"
   ]
  },
  {
   "cell_type": "markdown",
   "metadata": {},
   "source": [
    "User-Defined Functions (UDFs) are functions that users create. The Keyword def defines the function and is followed up with the function name. [2](https://www.datacamp.com/community/tutorials/functions-python-tutorial#udf)\n"
   ]
  },
  {
   "cell_type": "code",
   "execution_count": 1,
   "metadata": {},
   "outputs": [],
   "source": [
    "#def counts() "
   ]
  },
  {
   "cell_type": "markdown",
   "metadata": {},
   "source": [
    "First I define the counts function and list and ask the user to input the list \n",
    " \n",
    "~~~ \n",
    "def counts()\n",
    "    lst = list(input(\"Enter list: \"))\n",
    "~~~\n",
    "\n",
    "<div style=\"text-align: justify\"> Pythons built in count function can be used to count the frequencies of each item in a list </div>\n",
    "\n",
    "[3](https://www.geeksforgeeks.org/counting-the-frequencies-in-a-list-using-dictionary-in-python/)\n",
    "We can use a list \"l\" comprehension and the count() method.\n",
    "\n",
    "~~~\n",
    "\"[[x,l.count(x)] for x in set(l)]\" \n",
    "~~~\n",
    "\n",
    "[4](https://stackoverflow.com/questions/2600191/how-can-i-count-the-occurrences-of-a-list-item/23909767)\n",
    "\n",
    "Pythons set() function can be used to create sets. A set is a collection in no order with no duplicated elements. [5](https://docs.python.org/3/tutorial/datastructures.html)\n",
    "\n",
    "~~~\n",
    "[l, lst.count(l)] for l in set(lst)]\n",
    "~~~\n",
    "\n",
    "<div style=\"text-align: justify\"> Python lists have a built-in sort() method that modifies the list in-place and a sorted() built-in function that builds a new sorted list. </div>\n",
    "\n",
    "[5](https://wiki.python.org/moin/HowTo/Sorting)\n",
    "\n",
    "<div style=\"text-align: justify\"> This method sorted the keys in order. Python dict() function is a constructor which creates a dictionary. \n",
    "Python dict() and sort() can be used in conjunction which I have done below to achieve the desired outcome.</div>\n",
    "   \n",
    "[6](https://docs.python.org/3/tutorial/datastructures.html)\n",
    "\n",
    "~~~\n",
    "dict(sorted(counts()))\n",
    "~~~\n",
    "\n",
    "<div style=\"text-align: justify\"> Dictionaries can be any immutable type; strings and numbers can always be keys. \n",
    "You can’t use lists as keys, since lists can be modified in place.\n",
    "Which is a great reason for creating a function that takes in a list and returns a dictionary of items as keys. </div>\n",
    "\n",
    "[6](https://docs.python.org/3/tutorial/datastructures.html)\n"
   ]
  },
  {
   "cell_type": "code",
   "execution_count": 2,
   "metadata": {},
   "outputs": [],
   "source": [
    "def counts(): #defining the function counts\n",
    "    \n",
    "    # asks user for list as input\n",
    "    lst = list(input(\"Enter list: \"))\n",
    "    print(\"\\n\")\n",
    "\n",
    "    #counts the number of occurences of each item in list [3]\n",
    "    mylist=([ [l, lst.count(l)] for l in set(lst)]) \n",
    "    #prints dictionary, sorted outcome. \n",
    "    print(dict(sorted(mylist)))\n",
    "    \n"
   ]
  },
  {
   "cell_type": "code",
   "execution_count": 3,
   "metadata": {},
   "outputs": [
    {
     "name": "stdout",
     "output_type": "stream",
     "text": [
      "Enter list: AABCA\n",
      "\n",
      "\n",
      "{'A': 3, 'B': 1, 'C': 1}\n"
     ]
    }
   ],
   "source": [
    "#Using the function counts: \n",
    "counts()\n"
   ]
  },
  {
   "cell_type": "markdown",
   "metadata": {},
   "source": []
  },
  {
   "cell_type": "markdown",
   "metadata": {},
   "source": [
    "### References\n",
    "- [1] Ian McLoughlin course material \n",
    "- [2] https://www.datacamp.com/community/tutorials/functions-python-tutorial#udf\n",
    "- [3] https://www.geeksforgeeks.org/counting-the-frequencies-in-a-list-using-dictionary-in-python/\n",
    "- [4] https://stackoverflow.com/questions/2600191/how-can-i-count-the-occurrences-of-a-list-item/23909767\n",
    "- [5] https://wiki.python.org/moin/HowTo/Sorting\n",
    "- [6] https://docs.python.org/3/tutorial/datastructures.html\n",
    "- [7] https://www.geeksforgeeks.org/python-list-function-count/\n",
    "- [8] https://github.com/adam-p/markdown-here/wiki/Markdown-Cheatsheet"
   ]
  },
  {
   "cell_type": "markdown",
   "metadata": {},
   "source": [
    "<br>\n",
    "\n",
    "## Task 2. November 2nd, 2020:\n",
    "\n",
    "~~~\n",
    "\"Write a Python function called dicerolls that simulates\n",
    "rolling dice. Your function should take two parameters: the number of dice k and\n",
    "the number of times to roll the dice n. The function should simulate randomly\n",
    "rolling k dice n times, keeping track of each total face value. It should then return\n",
    "a dictionary with the number of times each possible total face value occurred. So,\n",
    "calling the function as diceroll(k=2, n=1000) should return a dictionary like:\n",
    "{2:19,3:50,4:82,5:112,6:135,7:174,8:133,9:114,10:75,11:70,12:36}\"\n",
    "- Tasks 2020 by Ian McLoughlin\n",
    "~~~"
   ]
  },
  {
   "cell_type": "markdown",
   "metadata": {},
   "source": [
    "### Research\n",
    "\n",
    "<div style=\"text-align: justify\">  Pythons random module is perfect for this task. I can simulate a roll of a dice in python by creating a code that will randomly choose an integer between 1 and 6.\n",
    "The <b>random.randint()</b> function returns a random integer based on the start and end that I specify. </div>\n",
    "\n",
    "[python docs random](https://docs.python.org/3/library/random.html)\n",
    "\n",
    "<div style=\"text-align: justify\"> \n",
    " A Python function called <b>dicerolls</b> that simulates rolling dice.\n",
    "The function takes two parameters: the number of dice k and\n",
    "the number of times to roll the dice n. \n",
    "The function simulates randomly rolling k dice n times, keeping track of each total face value. It then returns\n",
    "a dictionary with the number of times each possible total face value occurred. (Ian McLoughlin course material) </div>"
   ]
  },
  {
   "cell_type": "code",
   "execution_count": 4,
   "metadata": {},
   "outputs": [],
   "source": [
    "import random\n",
    "\n",
    "#A function that returns a dictionary with the number of times each face value is returned. \n",
    "\n",
    "def diceroll(k, n):\n",
    "    #start a counter to count (n) how many times the dice are rolled\n",
    "    myCounter = 0\n",
    "    #my list to store the values\n",
    "    dictList = []\n",
    "    #while loop to loop (n) times\n",
    "    while myCounter < n:\n",
    "        for i in range(k):\n",
    "            #given that the lowest possible face value for quantity k dice is k, and the highest possible\n",
    "            #total dice value will be k multiplied by 6. \n",
    "            #These are the values in the random.randint parameters.\n",
    "            totalFaceValue = random.randint(k, ( k * 6 ))\n",
    "            #increment my counter by 1\n",
    "            myCounter += 1\n",
    "            #add the total face value total to my list\n",
    "            dictList.append(totalFaceValue)\n",
    "    #count each item value\n",
    "    randList=([ [l, dictList.count(l)] for l in set(dictList)])\n",
    "    #display dictionary\n",
    "    print(dict(randList))\n"
   ]
  },
  {
   "cell_type": "code",
   "execution_count": 5,
   "metadata": {},
   "outputs": [
    {
     "name": "stdout",
     "output_type": "stream",
     "text": [
      "{2: 84, 3: 101, 4: 86, 5: 104, 6: 85, 7: 94, 8: 100, 9: 75, 10: 111, 11: 79, 12: 81}\n"
     ]
    }
   ],
   "source": [
    "diceroll(k = 2,n = 1000)"
   ]
  },
  {
   "cell_type": "code",
   "execution_count": 6,
   "metadata": {},
   "outputs": [
    {
     "data": {
      "text/plain": [
       "1000"
      ]
     },
     "execution_count": 6,
     "metadata": {},
     "output_type": "execute_result"
    }
   ],
   "source": [
    "# checking counter & while loop in code is working by adding the outputs together to add up to 1000.\n",
    "\n",
    "31 + 62 + 88 + 111 + 148 + 163 + 124 + 111 + 79 + 56 + 27\n",
    "#These were the numbers when I was testing the function.\n",
    "\n",
    "#These numbers change everytime the code is run(as they should to be random.)\n"
   ]
  },
  {
   "cell_type": "code",
   "execution_count": 7,
   "metadata": {},
   "outputs": [
    {
     "name": "stdout",
     "output_type": "stream",
     "text": [
      "{3: 70, 4: 71, 5: 76, 6: 56, 7: 70, 8: 62, 9: 62, 10: 67, 11: 63, 12: 54, 13: 55, 14: 66, 15: 54, 16: 61, 17: 59, 18: 56}\n"
     ]
    }
   ],
   "source": [
    "#checking with 3 dice we should have total face values beginning from 3 to 18 \n",
    "diceroll(3,1000)"
   ]
  },
  {
   "cell_type": "markdown",
   "metadata": {},
   "source": [
    "<div style=\"text-align: justify\"> \n",
    "Previously, my code was producing the correct output for 2 dicerolls, 1000 times,  but only n was working from the parameter. \n",
    "After multiple attempts of applying different while and for loops, and failing miserably, changing the code completly and then returning to my original code, trying to figure out how to get k to also work from the parameter, a sudden brain wave hit me, I attempted multiplying 6 by the number of dice(k) within the randint() parameters and to my delight it worked on my original code. That is the wonderful thing about Python, you can try line upon line of code and a small simple change can solve everything. \n",
    "The code now keeps track of the total face value of simulating rolling k dice n times. </div>"
   ]
  },
  {
   "cell_type": "markdown",
   "metadata": {},
   "source": [
    "## References\n",
    "- Ian McLoughlin​ course material\n",
    "- [Python random library](https://docs.python.org/3/library/random.html) helped me decipher which random module was best suited for simulating the diceroll. \n",
    "I played around with while and for loops a lot. These resources were very helpful in figuring out the best way to implement them in this code; \n",
    "- [Real Python while loops](https://realpython.com/python-while-loop/)\n",
    "\n",
    "- [learn Python](https://www.learnpython.org/en/Loops).\n",
    "\n",
    "The dictionary return code used came my previous task which was inspired by this; \n",
    "- [geeksforgeeks](https://www.geeksforgeeks.org/counting-the-frequencies-in-a-list-using-dictionary-in-python/) page. \n"
   ]
  },
  {
   "cell_type": "markdown",
   "metadata": {},
   "source": []
  },
  {
   "cell_type": "markdown",
   "metadata": {},
   "source": []
  },
  {
   "cell_type": "markdown",
   "metadata": {},
   "source": [
    " ## 3. November 16th, 2020: \n",
    "\n",
    "~~~\n",
    "\"The numpy.random.binomial function can be used to\n",
    "simulate flipping a coin with a 50/50 chance of heads or tails. Interestingly, if a\n",
    "coin is flipped many times then the number of heads is well approximated by a\n",
    "bell-shaped curve. For instance, if we flip a coin 100 times in a row the chance of\n",
    "getting 50 heads is relatively high, the chances of getting 0 or 100 heads is relatively\n",
    "low, and the chances of getting any other number of heads decreases as you move\n",
    "away from 50 in either direction towards 0 or 100. Write some python code that\n",
    "simulates flipping a coin 100 times. Then run this code 1,000 times, keeping track\n",
    "of the number of heads in each of the 1,000 simulations. Select an appropriate\n",
    "plot to depict the resulting list of 1,000 numbers, showing that it roughly follows\n",
    "a bell-shaped curve. You should explain your work in a Markdown cell above the\n",
    "code.\" - Tasks 2020 by Ian McLoughlin\n",
    "~~~\n",
    "\n",
    "\n",
    "## Research\n",
    "<div style=\"text-align: justify\">\n",
    "    \n",
    "    \n",
    "    \n",
    "    \n",
    "    \n",
    "    \n",
    "    \n",
    "</div>\n"
   ]
  },
  {
   "cell_type": "markdown",
   "metadata": {},
   "source": [
    "<b>numpy.random.binomial(n, p, size=None)</b> \n",
    "- n = the number of trials\n",
    "- p = probability of success\n",
    "- size = the number of successes\n",
    "[Numpy documentation](https://het.as.utexas.edu/HET/Software/Numpy/reference/generated/numpy.random.binomial.html)"
   ]
  },
  {
   "cell_type": "markdown",
   "metadata": {},
   "source": [
    "This code from the [Numpy documentation](https://het.as.utexas.edu/HET/Software/Numpy/reference/generated/numpy.random.binomial.html) showed me 0.5 is a way to represent flipping a coin. \n",
    "\n",
    "~~~\n",
    "\">>> n, p = 10, .5 # number of trials, probability of each trial\n",
    ">>> s = np.random.binomial(n, p, 1000)\n",
    "- #result of flipping a coin 10 times, tested 1000 times.\"\n",
    "~~~\n",
    "[Numpy documentation](https://het.as.utexas.edu/HET/Software/Numpy/reference/generated/numpy.random.binomial.html)"
   ]
  },
  {
   "attachments": {
    "binomial_dist.png": {
     "image/png": "[encoded data removed]"
    }
   },
   "cell_type": "markdown",
   "metadata": {},
   "source": [
    "### Binomial Distribution\n",
    "\n",
    "<div style=\"text-align: justify\"> Binomial Distribution is a Discrete Distribution. It shows probabilities of a discrete, which means countable outcomes, such as 1, 2, 3. The continuous probabilities distributions and the random variables they describe are the basis of probability theory and statistical analysis.</div>\n",
    "\n",
    "\n",
    "   [Investopedia.com](https://www.investopedia.com/terms/d/discrete-distribution.asp#:~:text=A%20discrete%20distribution%20is%20a,%2C%202%2C%203...&text=Overall%2C%20the%20concepts%20of%20discrete,probability%20theory%20and%20statistical%20analysis.)\n",
    "\n",
    "\n",
    "<div style=\"text-align: justify\"> A coin toss's result is discrete as it can be only head or tails.\n",
    "The binomial distribution is often used to compute probabilities for a process where only one of two possible outcomes may occur on each trial.</div>\n",
    "\n",
    "[numpy documentaion](https://het.as.utexas.edu/HET/Software/Numpy/reference/generated/numpy.random.binomial.html#numpy.random.binomial)\n",
    "\n",
    "The probability density for the Binomial distribution is:\n",
    "\n",
    "![binomial_dist.png](attachment:binomial_dist.png)\n",
    "\n",
    "[image from numpy documentation](https://het.as.utexas.edu/HET/Software/Numpy/reference/generated/numpy.random.binomial.html)\n"
   ]
  },
  {
   "cell_type": "code",
   "execution_count": 8,
   "metadata": {},
   "outputs": [
    {
     "name": "stdout",
     "output_type": "stream",
     "text": [
      "[50 57 44 48 51 48 52 46 56 52 45 47 53 52 42 51 52 48 50 51 50 54 54 43\n",
      " 48 53 53 54 45 51 48 61 49 44 45 54 44 45 51 55 45 41 55 52 48 42 39 52\n",
      " 47 52 46 55 50 51 52 59 53 48 50 55 46 55 48 52 55 45 48 44 40 48 43 58\n",
      " 48 58 41 49 47 57 51 66 52 46 55 45 48 42 49 48 45 50 50 46 46 45 57 58\n",
      " 59 57 49 42 44 53 49 55 49 45 55 54 56 47 49 43 49 53 45 41 53 44 48 48\n",
      " 55 56 46 49 37 43 47 51 57 46 46 58 43 49 48 47 55 53 53 52 48 51 49 53\n",
      " 43 51 46 51 37 56 51 56 42 44 51 63 50 57 58 59 48 54 42 62 51 50 47 44\n",
      " 50 52 53 56 55 56 53 54 50 46 61 57 50 51 46 44 47 58 56 42 55 45 45 48\n",
      " 58 49 48 46 44 44 38 48 44 46 58 51 43 51 49 45 62 47 48 57 53 43 50 50\n",
      " 37 49 59 51 54 42 61 47 55 52 57 55 48 53 50 54 48 56 44 45 49 49 52 52\n",
      " 59 50 44 53 49 57 49 47 55 55 51 51 49 48 53 44 58 47 45 47 60 41 51 41\n",
      " 55 60 46 47 48 41 45 47 47 56 49 49 53 53 52 48 62 54 53 41 53 46 45 52\n",
      " 47 59 48 56 45 54 42 56 56 55 52 48 52 45 51 44 46 54 54 43 51 47 52 50\n",
      " 51 52 51 56 44 49 52 54 45 57 45 53 54 44 49 52 49 53 55 50 49 54 57 49\n",
      " 43 49 51 47 48 52 45 44 44 44 49 50 46 52 55 46 48 44 46 48 55 55 46 46\n",
      " 49 56 50 48 50 47 51 50 55 59 44 48 60 51 46 38 47 50 46 49 54 49 54 56\n",
      " 47 45 51 52 42 61 50 50 46 55 49 57 51 50 51 47 47 50 50 59 41 49 59 49\n",
      " 49 50 52 52 58 54 47 45 50 39 43 52 56 39 46 54 55 51 42 48 51 49 52 49\n",
      " 45 52 56 45 52 50 47 48 45 46 49 43 56 59 58 48 55 55 45 52 42 50 45 46\n",
      " 65 45 47 58 50 49 50 50 58 55 54 41 52 52 43 49 47 49 49 45 48 38 51 51\n",
      " 49 48 44 51 53 55 47 50 46 55 49 51 53 49 51 41 46 41 44 56 46 41 49 45\n",
      " 51 47 47 57 39 52 57 48 55 48 55 48 57 55 54 52 39 52 42 47 49 55 51 50\n",
      " 53 52 52 52 52 49 46 51 61 47 55 47 56 47 55 57 48 47 51 52 47 47 38 56\n",
      " 40 46 55 54 45 48 52 48 50 51 47 55 45 51 46 52 55 46 49 50 56 49 51 46\n",
      " 47 46 42 49 54 52 48 57 45 47 55 47 48 49 57 54 49 48 47 53 57 43 48 49\n",
      " 52 49 52 49 62 49 50 47 48 39 47 53 57 49 52 54 49 45 50 47 57 48 57 51\n",
      " 44 58 54 47 48 45 55 53 44 50 47 51 51 52 47 51 53 54 46 55 46 45 45 54\n",
      " 47 53 43 54 50 51 49 32 48 55 49 50 49 52 52 54 56 55 52 45 41 54 54 41\n",
      " 58 40 49 54 53 46 39 55 40 48 49 46 58 49 51 52 49 47 50 47 53 37 49 46\n",
      " 51 45 51 47 50 59 39 54 51 61 48 54 46 57 50 50 48 46 48 58 56 47 53 49\n",
      " 56 55 50 46 55 44 52 44 51 57 49 50 44 50 46 50 48 52 62 50 51 59 55 45\n",
      " 52 46 45 52 41 47 47 42 43 51 45 52 57 42 48 51 45 45 39 39 49 49 46 45\n",
      " 55 53 48 52 57 44 54 41 50 51 55 41 44 50 52 47 53 53 58 56 56 51 47 37\n",
      " 52 48 51 51 50 47 59 48 46 47 48 52 41 52 50 51 46 48 49 38 58 46 48 52\n",
      " 45 52 53 51 44 46 49 46 55 51 46 46 47 43 52 41 47 46 45 52 53 59 49 50\n",
      " 56 55 35 56 55 49 57 51 43 52 48 54 46 39 50 42 46 57 53 53 49 45 56 56\n",
      " 50 53 43 45 40 50 52 45 49 52 48 49 52 58 57 53 47 57 56 56 54 50 47 56\n",
      " 42 51 50 53 49 46 55 49 58 49 47 54 64 55 51 51 53 45 56 51 53 48 49 47\n",
      " 54 51 56 55 50 56 41 51 50 53 48 45 57 50 42 51 51 54 48 54 49 50 50 56\n",
      " 58 53 44 59 54 51 47 62 55 40 54 53 58 50 54 45 58 50 58 49 49 50 52 54\n",
      " 51 47 42 43 44 49 53 45 47 53 48 45 52 50 48 47 58 53 45 54 53 53 50 42\n",
      " 50 53 51 50 48 47 45 43 48 53 67 50 52 51 46 55]\n"
     ]
    },
    {
     "data": {
      "text/plain": [
       "<matplotlib.axes._subplots.AxesSubplot at 0x2e960defa30>"
      ]
     },
     "execution_count": 8,
     "metadata": {},
     "output_type": "execute_result"
    },
    {
     "data": {
      "image/png": "[encoded data removed]",
      "text/plain": [
       "<Figure size 432x288 with 1 Axes>"
      ]
     },
     "metadata": {
      "needs_background": "light"
     },
     "output_type": "display_data"
    }
   ],
   "source": [
    "#import libraries\n",
    "import numpy as np\n",
    "import seaborn as sns\n",
    "\n",
    "#simulates flipping a coin 100 times \n",
    "x=np.random.binomial(n=100, p=0.5, size = 1000)\n",
    "print(x)\n",
    "\n",
    "#show the bell curve without a histogram using seaborns distplot()\n",
    "sns.distplot(x, hist = False)\n",
    "\n",
    "\n",
    "\n",
    "\n"
   ]
  },
  {
   "cell_type": "markdown",
   "metadata": {},
   "source": []
  },
  {
   "cell_type": "code",
   "execution_count": 10,
   "metadata": {},
   "outputs": [
    {
     "data": {
      "text/plain": [
       "<matplotlib.axes._subplots.AxesSubplot at 0x2e962125940>"
      ]
     },
     "execution_count": 10,
     "metadata": {},
     "output_type": "execute_result"
    },
    {
     "data": {
      "image/png": "[encoded data removed]",
      "text/plain": [
       "<Figure size 432x288 with 1 Axes>"
      ]
     },
     "metadata": {
      "needs_background": "light"
     },
     "output_type": "display_data"
    }
   ],
   "source": [
    "x = sns.distplot(np.random.binomial(n=100, p=0.5, size=1000), hist=True, kde=False)\n",
    "\n",
    "x"
   ]
  },
  {
   "cell_type": "code",
   "execution_count": null,
   "metadata": {},
   "outputs": [],
   "source": []
  },
  {
   "cell_type": "code",
   "execution_count": null,
   "metadata": {},
   "outputs": [],
   "source": []
  },
  {
   "cell_type": "code",
   "execution_count": null,
   "metadata": {},
   "outputs": [],
   "source": []
  },
  {
   "cell_type": "code",
   "execution_count": null,
   "metadata": {},
   "outputs": [],
   "source": []
  }
 ],
 "metadata": {
  "kernelspec": {
   "display_name": "Python 3",
   "language": "python",
   "name": "python3"
  },
  "language_info": {
   "codemirror_mode": {
    "name": "ipython",
    "version": 3
   },
   "file_extension": ".py",
   "mimetype": "text/x-python",
   "name": "python",
   "nbconvert_exporter": "python",
   "pygments_lexer": "ipython3",
   "version": "3.8.3"
  }
 },
 "nbformat": 4,
 "nbformat_minor": 4
}
