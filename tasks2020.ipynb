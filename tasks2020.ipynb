{
 "cells": [
  {
   "cell_type": "markdown",
   "metadata": {},
   "source": [
    "# Tasks 2020\n",
    "~ My GMIT Fundamentals of Data Analysis tasks 2020\n",
    "~ Student: Aine Nic Dhonnacha\n",
    "~ Email: G00259400@gmit.ie\n",
    "\n",
    "<br>\n",
    "\n",
    "## Task 1 : October 5th, 2020:\n",
    "\n",
    "~~~ \n",
    "\"Write a Python function called counts that takes a list as\n",
    "input and returns a dictionary of unique items in the list as keys and the number of\n",
    "times each item appears as values. So, the input ['A', 'A', 'B', 'C', 'A']\n",
    "should have output {'A': 3, 'B': 1, 'C': 1} . Your code should not depend\n",
    "on any module from the standard library or otherwise. You should research the task\n",
    "first and include a description with references of your algorithm in the notebook.\"\n",
    "- Tasks 2020 by Ian McLoughlin\n",
    "~~~"
   ]
  },
  {
   "cell_type": "markdown",
   "metadata": {},
   "source": [
    "### Research \n",
    "\n",
    "To write my counts python function, I have called upon built in functions from the python library for assistance. \n",
    "These include, count(), set(), sort(), dict(), list. [Python library Data Structuers](https://docs.python.org/3/tutorial/datastructures.html) is a great source to get an understanding of what these functions can do and how to implement them in my code. "
   ]
  },
  {
   "cell_type": "markdown",
   "metadata": {},
   "source": [
    "User-Defined Functions (UDFs) are functions that users create. The Keyword def declares the function and is followed up with the function name. [1](https://www.datacamp.com/community/tutorials/functions-python-tutorial#udf)\n"
   ]
  },
  {
   "cell_type": "code",
   "execution_count": 1,
   "metadata": {},
   "outputs": [],
   "source": [
    "#def counts() "
   ]
  },
  {
   "cell_type": "markdown",
   "metadata": {},
   "source": [
    "First I define the counts function and list and ask the user to input the list \n",
    " \n",
    "~~~ \n",
    "def counts()\n",
    "    lst = list(input(\"Enter list: \"))\n",
    "~~~\n",
    "\n",
    "Pythons built in count function can be used to count the frequencies of each item in a list [2](https://www.geeksforgeeks.org/counting-the-frequencies-in-a-list-using-dictionary-in-python/)\n",
    "We can use a list \"l\" comprehension and the count() method.\n",
    "\n",
    "~~~\n",
    "\"[[x,l.count(x)] for x in set(l)]\" \n",
    "~~~\n",
    "[3](https://stackoverflow.com/questions/2600191/how-can-i-count-the-occurrences-of-a-list-item/23909767)\n",
    "\n",
    "Pythons set() function can be used to create sets. A set is a collection in no order with no duplicated elements. [5](https://docs.python.org/3/tutorial/datastructures.html)\n",
    "\n",
    "~~~\n",
    "[l, lst.count(l)] for l in set(lst)]\n",
    "~~~\n",
    "\n",
    "Python lists have a built-in sort() method that modifies the list in-place and a sorted() built-in function that builds a new sorted list.[4](https://wiki.python.org/moin/HowTo/Sorting) This method sorted the keys in order. Python dict() function is a constructor which creates a dictionary. \n",
    "Python dict() and sort() can be used in conjunction which I have done below to achieve the desired outcome. [5](https://docs.python.org/3/tutorial/datastructures.html)\n",
    "\n",
    "~~~\n",
    "dict(sorted(counts()))\n",
    "~~~\n",
    "\n",
    "Dictionaries can be any immutable type; strings and numbers can always be keys. \n",
    "You can’t use lists as keys, since lists can be modified in place.\n",
    "Which is a great reason for creating a function that takes in a list and returns a dictionary of items as keys. [5](https://docs.python.org/3/tutorial/datastructures.html)\n"
   ]
  },
  {
   "cell_type": "code",
   "execution_count": 2,
   "metadata": {},
   "outputs": [],
   "source": [
    "def counts(): #defining the function counts\n",
    "    \n",
    "    # asks user for list as input\n",
    "    lst = list(input(\"Enter list: \"))\n",
    "    print(\"\\n\")\n",
    "\n",
    "    #counts the number of occurences of each item in list [3]\n",
    "    mylist=([ [l, lst.count(l)] for l in set(lst)]) \n",
    "    #prints dictionary, sorted outcome. \n",
    "    print(dict(sorted(mylist)))\n",
    "    \n"
   ]
  },
  {
   "cell_type": "code",
   "execution_count": 3,
   "metadata": {},
   "outputs": [
    {
     "name": "stdout",
     "output_type": "stream",
     "text": [
      "Enter list: AABCA\n",
      "\n",
      "\n",
      "{'A': 3, 'B': 1, 'C': 1}\n"
     ]
    }
   ],
   "source": [
    "#Using the function counts: \n",
    "counts()\n"
   ]
  },
  {
   "cell_type": "markdown",
   "metadata": {},
   "source": []
  },
  {
   "cell_type": "markdown",
   "metadata": {},
   "source": [
    "### References\n",
    "* [1] https://www.datacamp.com/community/tutorials/functions-python-tutorial#udf\n",
    "* [2] https://www.geeksforgeeks.org/counting-the-frequencies-in-a-list-using-dictionary-in-python/\n",
    "* [3] https://stackoverflow.com/questions/2600191/how-can-i-count-the-occurrences-of-a-list-item/23909767\n",
    "* [4] https://wiki.python.org/moin/HowTo/Sorting\n",
    "* [5] https://docs.python.org/3/tutorial/datastructures.html\n",
    "* [6] https://www.geeksforgeeks.org/python-list-function-count/\n",
    "* [7] https://github.com/adam-p/markdown-here/wiki/Markdown-Cheatsheet"
   ]
  },
  {
   "cell_type": "markdown",
   "metadata": {},
   "source": [
    "<br>\n",
    "\n",
    "## Task 2. November 2nd, 2020:\n",
    "\n",
    "~~~\n",
    "\"Write a Python function called dicerolls that simulates\n",
    "rolling dice. Your function should take two parameters: the number of dice k and\n",
    "the number of times to roll the dice n. The function should simulate randomly\n",
    "rolling k dice n times, keeping track of each total face value. It should then return\n",
    "a dictionary with the number of times each possible total face value occurred. So,\n",
    "calling the function as diceroll(k=2, n=1000) should return a dictionary like:\n",
    "{2:19,3:50,4:82,5:112,6:135,7:174,8:133,9:114,10:75,11:70,12:36}\"\n",
    "- Tasks 2020 by Ian McLoughlin\n",
    "~~~"
   ]
  },
  {
   "cell_type": "markdown",
   "metadata": {},
   "source": [
    "<br>\n",
    "### Research\n",
    "\n",
    "Pythons random module is perfect for this task. I can simulate a roll of a dice in python by creating a code that will randomly choose an integer between 1 and 6.\n",
    "The random.randint() function returns a random integer based on the start and end that I specify.[8](https://docs.python.org/3/library/random.html)\n",
    "The smallest value of a dice roll is 1 and the largest is 6. This gives the start and end values to use in random.randint() function. "
   ]
  },
  {
   "cell_type": "code",
   "execution_count": 6,
   "metadata": {},
   "outputs": [],
   "source": [
    "import random\n",
    "\n",
    "#def dicerolls(): \n",
    "k = random.randint(1,6)\n",
    "n = \n",
    "\n"
   ]
  },
  {
   "cell_type": "code",
   "execution_count": 7,
   "metadata": {},
   "outputs": [
    {
     "data": {
      "text/plain": [
       "6"
      ]
     },
     "execution_count": 7,
     "metadata": {},
     "output_type": "execute_result"
    }
   ],
   "source": [
    "k"
   ]
  },
  {
   "cell_type": "code",
   "execution_count": null,
   "metadata": {},
   "outputs": [],
   "source": []
  }
 ],
 "metadata": {
  "kernelspec": {
   "display_name": "Python 3",
   "language": "python",
   "name": "python3"
  },
  "language_info": {
   "codemirror_mode": {
    "name": "ipython",
    "version": 3
   },
   "file_extension": ".py",
   "mimetype": "text/x-python",
   "name": "python",
   "nbconvert_exporter": "python",
   "pygments_lexer": "ipython3",
   "version": "3.8.3"
  }
 },
 "nbformat": 4,
 "nbformat_minor": 4
}
