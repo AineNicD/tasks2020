{
 "cells": [
  {
   "cell_type": "markdown",
   "metadata": {},
   "source": [
    "## Tasks 2020\n",
    "~ My GMIT Fundamentals of Data Analysis tasks 2020\n",
    "~ Student: Aine Nic Dhonnacha\n",
    "~ Email: G00259400@gmit.ie\n",
    "\n",
    "<br>\n",
    "\n",
    "## Task 1 : October 5th, 2020:\n",
    "\n",
    "~~~ \n",
    "\"Write a Python function called counts that takes a list as\n",
    "input and returns a dictionary of unique items in the list as keys and the number of\n",
    "times each item appears as values. So, the input ['A', 'A', 'B', 'C', 'A']\n",
    "should have output {'A': 3, 'B': 1, 'C': 1} . Your code should not depend\n",
    "on any module from the standard library or otherwise. You should research the task\n",
    "first and include a description with references of your algorithm in the notebook.\"\n",
    "- Tasks 2020 by Ian McLoughlin\n",
    "~~~"
   ]
  },
  {
   "cell_type": "markdown",
   "metadata": {},
   "source": [
    "### Research \n",
    "\n",
    "<div style=\"text-align: justify\"> To write my counts python function, I have called upon built in functions from the python library for assistance. \n",
    "These include, count(), set(), sort(), dict(), list. </div>\n",
    "\n",
    "[Python library Data Structuers](https://docs.python.org/3/tutorial/datastructures.html)\n",
    "  \n",
    "<div style=\"text-align: justify\">  is a great source to get an understanding of what these functions can do and how to implement them in my code. </div>"
   ]
  },
  {
   "cell_type": "markdown",
   "metadata": {},
   "source": [
    "User-Defined Functions (UDFs) are functions that users create. The Keyword def defines the function and is followed up with the function name. [2](https://www.datacamp.com/community/tutorials/functions-python-tutorial#udf)\n"
   ]
  },
  {
   "cell_type": "code",
   "execution_count": 1,
   "metadata": {},
   "outputs": [],
   "source": [
    "#def counts() "
   ]
  },
  {
   "cell_type": "markdown",
   "metadata": {},
   "source": [
    "First I define the counts function and list and ask the user to input the list \n",
    " \n",
    "~~~ \n",
    "def counts()\n",
    "    lst = list(input(\"Enter list: \"))\n",
    "~~~\n",
    "\n",
    "<div style=\"text-align: justify\"> Pythons built in count function can be used to count the frequencies of each item in a list </div>\n",
    "\n",
    "[3](https://www.geeksforgeeks.org/counting-the-frequencies-in-a-list-using-dictionary-in-python/)\n",
    "We can use a list \"l\" comprehension and the count() method.\n",
    "\n",
    "~~~\n",
    "\"[[x,l.count(x)] for x in set(l)]\" \n",
    "~~~\n",
    "\n",
    "[4](https://stackoverflow.com/questions/2600191/how-can-i-count-the-occurrences-of-a-list-item/23909767)\n",
    "\n",
    "Pythons set() function can be used to create sets. A set is a collection in no order with no duplicated elements. [5](https://docs.python.org/3/tutorial/datastructures.html)\n",
    "\n",
    "~~~\n",
    "[l, lst.count(l)] for l in set(lst)]\n",
    "~~~\n",
    "\n",
    "<div style=\"text-align: justify\"> Python lists have a built-in sort() method that modifies the list in-place and a sorted() built-in function that builds a new sorted list. </div>\n",
    "\n",
    "[5](https://wiki.python.org/moin/HowTo/Sorting)\n",
    "\n",
    "<div style=\"text-align: justify\"> This method sorted the keys in order. Python dict() function is a constructor which creates a dictionary. \n",
    "Python dict() and sort() can be used in conjunction which I have done below to achieve the desired outcome.</div>\n",
    "   \n",
    "[6](https://docs.python.org/3/tutorial/datastructures.html)\n",
    "\n",
    "~~~\n",
    "dict(sorted(counts()))\n",
    "~~~\n",
    "\n",
    "<div style=\"text-align: justify\"> Dictionaries can be any immutable type; strings and numbers can always be keys. \n",
    "You can’t use lists as keys, since lists can be modified in place.\n",
    "Which is a great reason for creating a function that takes in a list and returns a dictionary of items as keys. </div>\n",
    "\n",
    "[6](https://docs.python.org/3/tutorial/datastructures.html)\n"
   ]
  },
  {
   "cell_type": "code",
   "execution_count": 2,
   "metadata": {},
   "outputs": [],
   "source": [
    "def counts(): #defining the function counts\n",
    "    \n",
    "    # asks user for list as input\n",
    "    lst = list(input(\"Enter list: \"))\n",
    "    print(\"\\n\")\n",
    "\n",
    "    #counts the number of occurences of each item in list [3]\n",
    "    mylist=([ [l, lst.count(l)] for l in set(lst)]) \n",
    "    #prints dictionary, sorted outcome. \n",
    "    print(dict(sorted(mylist)))\n",
    "    \n"
   ]
  },
  {
   "cell_type": "code",
   "execution_count": 3,
   "metadata": {},
   "outputs": [
    {
     "name": "stdout",
     "output_type": "stream",
     "text": [
      "Enter list: AABCA\n",
      "\n",
      "\n",
      "{'A': 3, 'B': 1, 'C': 1}\n"
     ]
    }
   ],
   "source": [
    "#Using the function counts: \n",
    "counts()\n"
   ]
  },
  {
   "cell_type": "markdown",
   "metadata": {},
   "source": []
  },
  {
   "cell_type": "markdown",
   "metadata": {},
   "source": [
    "### References\n",
    "- [1] Ian McLoughlin course material \n",
    "- [2] https://www.datacamp.com/community/tutorials/functions-python-tutorial#udf\n",
    "- [3] https://www.geeksforgeeks.org/counting-the-frequencies-in-a-list-using-dictionary-in-python/\n",
    "- [4] https://stackoverflow.com/questions/2600191/how-can-i-count-the-occurrences-of-a-list-item/23909767\n",
    "- [5] https://wiki.python.org/moin/HowTo/Sorting\n",
    "- [6] https://docs.python.org/3/tutorial/datastructures.html\n",
    "- [7] https://www.geeksforgeeks.org/python-list-function-count/\n",
    "- [8] https://github.com/adam-p/markdown-here/wiki/Markdown-Cheatsheet"
   ]
  },
  {
   "cell_type": "markdown",
   "metadata": {},
   "source": [
    "<br>\n",
    "\n",
    "## Task 2. November 2nd, 2020:\n",
    "\n",
    "~~~\n",
    "\"Write a Python function called dicerolls that simulates\n",
    "rolling dice. Your function should take two parameters: the number of dice k and\n",
    "the number of times to roll the dice n. The function should simulate randomly\n",
    "rolling k dice n times, keeping track of each total face value. It should then return\n",
    "a dictionary with the number of times each possible total face value occurred. So,\n",
    "calling the function as diceroll(k=2, n=1000) should return a dictionary like:\n",
    "{2:19,3:50,4:82,5:112,6:135,7:174,8:133,9:114,10:75,11:70,12:36}\"\n",
    "- Tasks 2020 by Ian McLoughlin\n",
    "~~~"
   ]
  },
  {
   "cell_type": "markdown",
   "metadata": {},
   "source": [
    "### Research\n",
    "\n",
    "<div style=\"text-align: justify\">  Pythons random module is perfect for this task. I can simulate a roll of a dice in python by creating a code that will randomly choose an integer between 1 and 6.\n",
    "The <b>random.randint()</b> function returns a random integer based on the start and end that I specify. </div>\n",
    "\n",
    "[python docs random](https://docs.python.org/3/library/random.html)\n",
    "\n",
    "<div style=\"text-align: justify\"> \n",
    " A Python function called <b>dicerolls</b> that simulates rolling dice.\n",
    "The function takes two parameters: the number of dice k and\n",
    "the number of times to roll the dice n. \n",
    "The function simulates randomly rolling k dice n times, keeping track of each total face value. It then returns\n",
    "a dictionary with the number of times each possible total face value occurred. (Ian McLoughlin course material) </div>"
   ]
  },
  {
   "cell_type": "code",
   "execution_count": 4,
   "metadata": {},
   "outputs": [],
   "source": [
    "import random\n",
    "\n",
    "#A function that returns a dictionary with the number of times each face value is returned. \n",
    "\n",
    "def diceroll(k, n):\n",
    "    #start a counter to count (n) how many times the dice are rolled\n",
    "    myCounter = 0\n",
    "    #my list to store the values\n",
    "    dictList = []\n",
    "    #while loop to loop (n) times\n",
    "    while myCounter < n:\n",
    "        for i in range(k):\n",
    "            #given that the lowest possible face value for quantity k dice is k, and the highest possible\n",
    "            #total dice value will be k multiplied by 6. \n",
    "            #These are the values in the random.randint parameters.\n",
    "            totalFaceValue = random.randint(k, ( k * 6 ))\n",
    "            #increment my counter by 1\n",
    "            myCounter += 1\n",
    "            #add the total face value total to my list\n",
    "            dictList.append(totalFaceValue)\n",
    "    #count each item value\n",
    "    randList=([ [l, dictList.count(l)] for l in set(dictList)])\n",
    "    #display dictionary\n",
    "    print(dict(randList))\n"
   ]
  },
  {
   "cell_type": "code",
   "execution_count": 5,
   "metadata": {},
   "outputs": [
    {
     "name": "stdout",
     "output_type": "stream",
     "text": [
      "{2: 114, 3: 101, 4: 72, 5: 97, 6: 89, 7: 99, 8: 87, 9: 86, 10: 89, 11: 90, 12: 76}\n"
     ]
    }
   ],
   "source": [
    "diceroll(k = 2,n = 1000)"
   ]
  },
  {
   "cell_type": "code",
   "execution_count": 6,
   "metadata": {},
   "outputs": [
    {
     "data": {
      "text/plain": [
       "1000"
      ]
     },
     "execution_count": 6,
     "metadata": {},
     "output_type": "execute_result"
    }
   ],
   "source": [
    "# checking counter & while loop in code is working by adding the outputs together to add up to 1000.\n",
    "\n",
    "31 + 62 + 88 + 111 + 148 + 163 + 124 + 111 + 79 + 56 + 27\n",
    "#These were the numbers when I was testing the function.\n",
    "\n",
    "#These numbers change everytime the code is run(as they should to be random.)\n"
   ]
  },
  {
   "cell_type": "code",
   "execution_count": 7,
   "metadata": {},
   "outputs": [
    {
     "name": "stdout",
     "output_type": "stream",
     "text": [
      "{3: 60, 4: 62, 5: 65, 6: 46, 7: 67, 8: 55, 9: 67, 10: 66, 11: 56, 12: 71, 13: 66, 14: 63, 15: 64, 16: 73, 17: 62, 18: 59}\n"
     ]
    }
   ],
   "source": [
    "#checking with 3 dice we should have total face values beginning from 3 to 18 \n",
    "diceroll(3,1000)"
   ]
  },
  {
   "cell_type": "markdown",
   "metadata": {},
   "source": [
    "<div style=\"text-align: justify\"> \n",
    "Previously, my code was producing the correct output for 2 dicerolls, 1000 times,  but only n was working from the parameter. \n",
    "After multiple attempts of applying different while and for loops, and failing miserably, changing the code completly and then returning to my original code, trying to figure out how to get k to also work from the parameter, a sudden brain wave hit me, I attempted multiplying 6 by the number of dice(k) within the randint() parameters and to my delight it worked on my original code. That is the wonderful thing about Python, you can try line upon line of code and a small simple change can solve everything. \n",
    "The code now keeps track of the total face value of simulating rolling k dice n times. </div>"
   ]
  },
  {
   "cell_type": "markdown",
   "metadata": {},
   "source": [
    "## References\n",
    "- Ian McLoughlin​ course material\n",
    "- [Python random library](https://docs.python.org/3/library/random.html) helped me decipher which random module was best suited for simulating the diceroll. \n",
    "I played around with while and for loops a lot. These resources were very helpful in figuring out the best way to implement them in this code; \n",
    "- [Real Python while loops](https://realpython.com/python-while-loop/)\n",
    "\n",
    "- [learn Python](https://www.learnpython.org/en/Loops).\n",
    "\n",
    "The dictionary return code used came my previous task which was inspired by this; \n",
    "- [geeksforgeeks](https://www.geeksforgeeks.org/counting-the-frequencies-in-a-list-using-dictionary-in-python/) page. \n"
   ]
  },
  {
   "cell_type": "markdown",
   "metadata": {},
   "source": []
  },
  {
   "cell_type": "markdown",
   "metadata": {},
   "source": []
  },
  {
   "cell_type": "markdown",
   "metadata": {},
   "source": [
    " ## 3. November 16th, 2020: \n",
    "\n",
    "~~~\n",
    "\"The numpy.random.binomial function can be used to\n",
    "simulate flipping a coin with a 50/50 chance of heads or tails. Interestingly, if a\n",
    "coin is flipped many times then the number of heads is well approximated by a\n",
    "bell-shaped curve. For instance, if we flip a coin 100 times in a row the chance of\n",
    "getting 50 heads is relatively high, the chances of getting 0 or 100 heads is relatively\n",
    "low, and the chances of getting any other number of heads decreases as you move\n",
    "away from 50 in either direction towards 0 or 100. Write some python code that\n",
    "simulates flipping a coin 100 times. Then run this code 1,000 times, keeping track\n",
    "of the number of heads in each of the 1,000 simulations. Select an appropriate\n",
    "plot to depict the resulting list of 1,000 numbers, showing that it roughly follows\n",
    "a bell-shaped curve. You should explain your work in a Markdown cell above the\n",
    "code.\" - Tasks 2020 by Ian McLoughlin\n",
    "~~~\n",
    "\n",
    "\n",
    "## Research\n",
    "<div style=\"text-align: justify\">\n",
    "    \n",
    "    \n",
    "    \n",
    "    \n",
    "    \n",
    "    \n",
    "    \n",
    "</div>\n"
   ]
  },
  {
   "cell_type": "code",
   "execution_count": null,
   "metadata": {},
   "outputs": [],
   "source": []
  }
 ],
 "metadata": {
  "kernelspec": {
   "display_name": "Python 3",
   "language": "python",
   "name": "python3"
  },
  "language_info": {
   "codemirror_mode": {
    "name": "ipython",
    "version": 3
   },
   "file_extension": ".py",
   "mimetype": "text/x-python",
   "name": "python",
   "nbconvert_exporter": "python",
   "pygments_lexer": "ipython3",
   "version": "3.8.3"
  }
 },
 "nbformat": 4,
 "nbformat_minor": 4
}
